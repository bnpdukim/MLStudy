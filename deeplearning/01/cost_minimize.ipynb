{
 "cells": [
  {
   "cell_type": "code",
   "execution_count": 1,
   "metadata": {},
   "outputs": [
    {
     "name": "stderr",
     "output_type": "stream",
     "text": [
      "/usr/lib/python3.6/importlib/_bootstrap.py:219: RuntimeWarning: compiletime version 3.5 of module 'tensorflow.python.framework.fast_tensor_util' does not match runtime version 3.6\n",
      "  return f(*args, **kwds)\n"
     ]
    }
   ],
   "source": [
    "import tensorflow as tf\n",
    "import matplotlib.pyplot as plt"
   ]
  },
  {
   "cell_type": "code",
   "execution_count": 2,
   "metadata": {},
   "outputs": [],
   "source": [
    "tf.set_random_seed(777)  \n",
    "X = [2, 4, 6, 8]\n",
    "Y = [2, 4, 6, 8]\n",
    "\n",
    "# 위의  X Y 데이터가 너무 linear 하네요 ㅋㅋ  실제로는 저렇지 앟겠지만 연습이니까... ^^"
   ]
  },
  {
   "cell_type": "code",
   "execution_count": 3,
   "metadata": {},
   "outputs": [],
   "source": [
    "W = tf.placeholder(tf.float32)\n",
    "hypothesis = X * W"
   ]
  },
  {
   "cell_type": "code",
   "execution_count": 4,
   "metadata": {},
   "outputs": [],
   "source": [
    "cost = tf.reduce_mean(tf.square(hypothesis - Y))"
   ]
  },
  {
   "cell_type": "code",
   "execution_count": 5,
   "metadata": {},
   "outputs": [],
   "source": [
    "sess = tf.Session()"
   ]
  },
  {
   "cell_type": "code",
   "execution_count": 6,
   "metadata": {},
   "outputs": [],
   "source": [
    "W_history = []\n",
    "cost_history = []"
   ]
  },
  {
   "cell_type": "code",
   "execution_count": 7,
   "metadata": {},
   "outputs": [
    {
     "name": "stdout",
     "output_type": "stream",
     "text": [
      "-30 -3.0 480.0\n",
      "-29 -2.9000000000000004 456.3\n",
      "-28 -2.8000000000000003 433.2\n",
      "-27 -2.7 410.7\n",
      "-26 -2.6 388.8\n",
      "-25 -2.5 367.5\n",
      "-24 -2.4000000000000004 346.8\n",
      "-23 -2.3000000000000003 326.7\n",
      "-22 -2.2 307.2\n",
      "-21 -2.1 288.3\n",
      "-20 -2.0 270.0\n",
      "-19 -1.9000000000000001 252.3\n",
      "-18 -1.8 235.2\n",
      "-17 -1.7000000000000002 218.7\n",
      "-16 -1.6 202.8\n",
      "-15 -1.5 187.5\n",
      "-14 -1.4000000000000001 172.8\n",
      "-13 -1.3 158.7\n",
      "-12 -1.2000000000000002 145.2\n",
      "-11 -1.1 132.3\n",
      "-10 -1.0 120.0\n",
      "-9 -0.9 108.3\n",
      "-8 -0.8 97.2\n",
      "-7 -0.7000000000000001 86.7\n",
      "-6 -0.6000000000000001 76.8\n",
      "-5 -0.5 67.5\n",
      "-4 -0.4 58.8\n",
      "-3 -0.30000000000000004 50.7\n",
      "-2 -0.2 43.2\n",
      "-1 -0.1 36.3\n",
      "0 0.0 30.0\n",
      "1 0.1 24.3\n",
      "2 0.2 19.2\n",
      "3 0.30000000000000004 14.7\n",
      "4 0.4 10.8\n",
      "5 0.5 7.5\n",
      "6 0.6000000000000001 4.8\n",
      "7 0.7000000000000001 2.7\n",
      "8 0.8 1.2\n",
      "9 0.9 0.3\n",
      "10 1.0 0.0\n",
      "11 1.1 0.3\n",
      "12 1.2000000000000002 1.2\n",
      "13 1.3 2.7\n",
      "14 1.4000000000000001 4.8\n",
      "15 1.5 7.5\n",
      "16 1.6 10.8\n",
      "17 1.7000000000000002 14.7\n",
      "18 1.8 19.2\n",
      "19 1.9000000000000001 24.3\n",
      "20 2.0 30.0\n",
      "21 2.1 36.3\n",
      "22 2.2 43.2\n",
      "23 2.3000000000000003 50.7\n",
      "24 2.4000000000000004 58.8\n",
      "25 2.5 67.5\n",
      "26 2.6 76.8\n",
      "27 2.7 86.7\n",
      "28 2.8000000000000003 97.2\n",
      "29 2.9000000000000004 108.3\n",
      "30 3.0 120.0\n",
      "31 3.1 132.3\n",
      "32 3.2 145.2\n",
      "33 3.3000000000000003 158.7\n",
      "34 3.4000000000000004 172.8\n",
      "35 3.5 187.5\n",
      "36 3.6 202.8\n",
      "37 3.7 218.7\n",
      "38 3.8000000000000003 235.2\n",
      "39 3.9000000000000004 252.3\n",
      "40 4.0 270.0\n",
      "41 4.1000000000000005 288.3\n",
      "42 4.2 307.2\n",
      "43 4.3 326.7\n",
      "44 4.4 346.8\n",
      "45 4.5 367.5\n",
      "46 4.6000000000000005 388.8\n",
      "47 4.7 410.7\n",
      "48 4.800000000000001 433.2\n",
      "49 4.9 456.3\n"
     ]
    }
   ],
   "source": [
    "for i in range(-30, 50):\n",
    "    curr_W = i * 0.1\n",
    "    curr_cost = sess.run(cost, feed_dict={W: curr_W})\n",
    "    W_history.append(curr_W)\n",
    "    cost_history.append(curr_cost)\n",
    "    print(i, curr_W, curr_cost)"
   ]
  },
  {
   "cell_type": "code",
   "execution_count": 8,
   "metadata": {},
   "outputs": [
    {
     "data": {
      "image/png": "[encoded data removed]",
      "text/plain": [
       "<matplotlib.figure.Figure at 0x7f800f066400>"
      ]
     },
     "metadata": {},
     "output_type": "display_data"
    }
   ],
   "source": [
    "plt.plot(W_history, cost_history)\n",
    "plt.show()"
   ]
  },
  {
   "cell_type": "code",
   "execution_count": null,
   "metadata": {},
   "outputs": [],
   "source": []
  }
 ],
 "metadata": {
  "kernelspec": {
   "display_name": "Python 3",
   "language": "python",
   "name": "python3"
  },
  "language_info": {
   "codemirror_mode": {
    "name": "ipython",
    "version": 3
   },
   "file_extension": ".py",
   "mimetype": "text/x-python",
   "name": "python",
   "nbconvert_exporter": "python",
   "pygments_lexer": "ipython3",
   "version": "3.6.3"
  }
 },
 "nbformat": 4,
 "nbformat_minor": 2
}
