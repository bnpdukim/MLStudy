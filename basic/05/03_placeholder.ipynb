{
 "cells": [
  {
   "cell_type": "code",
   "execution_count": 6,
   "metadata": {},
   "outputs": [
    {
     "name": "stdout",
     "output_type": "stream",
     "text": [
      "[2 4 6]\n",
      "[ 8 10 12]\n",
      "[14 16 18  0]\n",
      "[2]\n"
     ]
    }
   ],
   "source": [
    "import tensorflow as tf\n",
    "\n",
    "\n",
    "#1 basic\n",
    "a = tf.placeholder(tf.int32, [3])\n",
    "\n",
    "b = tf.constant(2)\n",
    "basicOp = a*b\n",
    "\n",
    "sess = tf.Session()\n",
    "\n",
    "r1 = sess.run(basicOp, feed_dict={a:[1,2,3]})\n",
    "print(r1)\n",
    "\n",
    "r2 = sess.run(basicOp, feed_dict={a:[4,5,6]})\n",
    "print(r2)\n",
    "\n",
    "#2 None으로 지정\n",
    "c = tf.placeholder(tf.int32,[None])\n",
    "nonOp = c*b\n",
    "\n",
    "r3 = sess.run(nonOp, feed_dict={c:[7,8,9,0]})\n",
    "print(r3)\n",
    "\n",
    "r4 = sess.run(nonOp, feed_dict={c:[1]})\n",
    "print(r4)"
   ]
  }
 ],
 "metadata": {
  "kernelspec": {
   "display_name": "Python 3",
   "language": "python",
   "name": "python3"
  },
  "language_info": {
   "codemirror_mode": {
    "name": "ipython",
    "version": 3
   },
   "file_extension": ".py",
   "mimetype": "text/x-python",
   "name": "python",
   "nbconvert_exporter": "python",
   "pygments_lexer": "ipython3",
   "version": "3.6.3"
  }
 },
 "nbformat": 4,
 "nbformat_minor": 2
}
