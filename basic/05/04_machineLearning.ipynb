{
 "cells": [
  {
   "cell_type": "code",
   "execution_count": 2,
   "metadata": {},
   "outputs": [
    {
     "name": "stdout",
     "output_type": "stream",
     "text": [
      "       height  weight   label label_onehat\n",
      "0       0.710    0.62     fat    [0, 0, 1]\n",
      "1       0.710    0.73     fat    [0, 0, 1]\n",
      "2       0.885    0.61  normal    [0, 1, 0]\n",
      "3       0.935    0.48    thin    [1, 0, 0]\n",
      "4       0.765    0.60     fat    [0, 0, 1]\n",
      "5       0.930    0.59    thin    [1, 0, 0]\n",
      "6       0.830    0.53  normal    [0, 1, 0]\n",
      "7       0.965    0.56    thin    [1, 0, 0]\n",
      "8       0.920    0.43    thin    [1, 0, 0]\n",
      "9       0.965    0.64    thin    [1, 0, 0]\n",
      "10      0.775    0.69     fat    [0, 0, 1]\n",
      "11      0.710    0.63     fat    [0, 0, 1]\n",
      "12      0.905    0.72  normal    [0, 1, 0]\n",
      "13      0.945    0.62    thin    [1, 0, 0]\n",
      "14      0.700    0.62     fat    [0, 0, 1]\n",
      "15      0.765    0.37    thin    [1, 0, 0]\n",
      "16      0.655    0.55     fat    [0, 0, 1]\n",
      "17      0.685    0.68     fat    [0, 0, 1]\n",
      "18      0.765    0.40    thin    [1, 0, 0]\n",
      "19      0.680    0.50     fat    [0, 0, 1]\n",
      "20      0.625    0.73     fat    [0, 0, 1]\n",
      "21      0.960    0.71  normal    [0, 1, 0]\n",
      "22      0.735    0.49  normal    [0, 1, 0]\n",
      "23      0.805    0.36    thin    [1, 0, 0]\n",
      "24      0.860    0.71  normal    [0, 1, 0]\n",
      "25      0.715    0.73     fat    [0, 0, 1]\n",
      "26      0.935    0.56    thin    [1, 0, 0]\n",
      "27      0.700    0.51     fat    [0, 0, 1]\n",
      "28      0.605    0.72     fat    [0, 0, 1]\n",
      "29      0.915    0.36    thin    [1, 0, 0]\n",
      "...       ...     ...     ...          ...\n",
      "19970   0.605    0.66     fat    [0, 0, 1]\n",
      "19971   1.000    0.42    thin    [1, 0, 0]\n",
      "19972   0.620    0.62     fat    [0, 0, 1]\n",
      "19973   0.645    0.52     fat    [0, 0, 1]\n",
      "19974   0.845    0.74     fat    [0, 0, 1]\n",
      "19975   0.645    0.71     fat    [0, 0, 1]\n",
      "19976   0.695    0.56     fat    [0, 0, 1]\n",
      "19977   0.835    0.80     fat    [0, 0, 1]\n",
      "19978   0.790    0.50  normal    [0, 1, 0]\n",
      "19979   0.950    0.72  normal    [0, 1, 0]\n",
      "19980   0.845    0.36    thin    [1, 0, 0]\n",
      "19981   0.865    0.55    thin    [1, 0, 0]\n",
      "19982   0.705    0.37  normal    [0, 1, 0]\n",
      "19983   0.920    0.62    thin    [1, 0, 0]\n",
      "19984   0.845    0.63  normal    [0, 1, 0]\n",
      "19985   0.780    0.54  normal    [0, 1, 0]\n",
      "19986   0.690    0.77     fat    [0, 0, 1]\n",
      "19987   0.795    0.55  normal    [0, 1, 0]\n",
      "19988   0.700    0.71     fat    [0, 0, 1]\n",
      "19989   0.675    0.67     fat    [0, 0, 1]\n",
      "19990   0.675    0.48     fat    [0, 0, 1]\n",
      "19991   0.840    0.40    thin    [1, 0, 0]\n",
      "19992   0.765    0.67     fat    [0, 0, 1]\n",
      "19993   0.980    0.68    thin    [1, 0, 0]\n",
      "19994   0.875    0.54    thin    [1, 0, 0]\n",
      "19995   0.610    0.58     fat    [0, 0, 1]\n",
      "19996   0.965    0.69  normal    [0, 1, 0]\n",
      "19997   0.965    0.37    thin    [1, 0, 0]\n",
      "19998   0.975    0.51    thin    [1, 0, 0]\n",
      "19999   0.815    0.67  normal    [0, 1, 0]\n",
      "\n",
      "[20000 rows x 4 columns]\n"
     ]
    }
   ],
   "source": [
    "import pandas as pd\n",
    "import numpy as np\n",
    "import tensorflow as tf\n",
    "\n",
    "csv = pd.read_csv(\"bmi.csv\")\n",
    "csv[\"height\"] = csv[\"height\"] / 200\n",
    "csv[\"weight\"] = csv[\"weight\"] / 100\n",
    "# thin : [1,0,0], normal : [0,1,0], fat : [0,0,1]\n",
    "bclass = {\"thin\" : [1,0,0], \"normal\" : [0,1,0], \"fat\" : [0,0,1]}\n",
    "csv[\"label_onehat\"] = csv[\"label\"].apply(lambda x: np.array(bclass[x]))\n",
    "\n",
    "print(csv)"
   ]
  },
  {
   "cell_type": "code",
   "execution_count": 5,
   "metadata": {},
   "outputs": [],
   "source": [
    "test_csv = csv[15000:20000]\n",
    "test_list  = test_csv[[\"weight\",\"height\"]]\n",
    "test_onehat = list(test_csv[\"label_onehat\"])\n",
    "\n",
    "x = tf.placeholder(tf.float32, [None, 2])\n",
    "y_ = tf.placeholder(tf.float32, [None, 3])\n",
    "\n",
    "W = tf.Variable(tf.zeros([2,3]))\n",
    "b = tf.Variable(tf.zeros([3]))\n",
    "\n",
    "y = tf.nn.softmax(tf.matmul(x,W) + b)\n",
    "\n",
    "cross_entropy = -tf.reduce_sum(y_*tf.log(y))\n",
    "optimizer = tf.train.GradientDescentOptimizer(0.01)\n",
    "train = optimizer.minimize(cross_entropy)\n"
   ]
  },
  {
   "cell_type": "code",
   "execution_count": 14,
   "metadata": {},
   "outputs": [
    {
     "name": "stdout",
     "output_type": "stream",
     "text": [
      "step= 0 cre= 108.663 acc= 0.3242\n",
      "step= 500 cre= 57.5887 acc= 0.8904\n",
      "step= 1000 cre= 45.0209 acc= 0.898\n",
      "step= 1500 cre= 41.6543 acc= 0.9566\n",
      "step= 2000 cre= 34.664 acc= 0.943\n",
      "step= 2500 cre= 34.287 acc= 0.9674\n",
      "step= 3000 cre= 26.8808 acc= 0.9726\n",
      "정답률= 0.9712\n"
     ]
    }
   ],
   "source": [
    "predict = tf.equal(tf.argmax(y, 1), tf.argmax(y_, 1))\n",
    "accuracy = tf.reduce_mean(tf.cast(predict, tf.float32))\n",
    "\n",
    "sess = tf.Session()\n",
    "sess.run(tf.global_variables_initializer())\n",
    "\n",
    "for step in range(3500):\n",
    "    i = (step *100) % 14000\n",
    "    rows = csv[1+i:1+i+100]\n",
    "    x_pat = rows[[\"weight\", \"height\"]]\n",
    "    y_ans = list(rows[\"label_onehat\"])\n",
    "    fd = {x: x_pat, y_: y_ans}\n",
    "    sess.run(train, feed_dict = fd)\n",
    "    if step %500 == 0:\n",
    "        cre = sess.run(cross_entropy, feed_dict = fd)\n",
    "        acc = sess.run(accuracy, feed_dict = {x:test_list, y_:test_onehat})\n",
    "        print(\"step=\", step, \"cre=\",cre,\"acc=\",acc)\n",
    "acc = sess.run(accuracy, feed_dict={x:test_list, y_:test_onehat})\n",
    "print(\"정답률=\",acc)\n",
    "\n",
    "tw = tf.train.SummaryWriter(\"log_dir\", graph=sess.graph)"
   ]
  }
 ],
 "metadata": {
  "kernelspec": {
   "display_name": "Python 3",
   "language": "python",
   "name": "python3"
  },
  "language_info": {
   "codemirror_mode": {
    "name": "ipython",
    "version": 3
   },
   "file_extension": ".py",
   "mimetype": "text/x-python",
   "name": "python",
   "nbconvert_exporter": "python",
   "pygments_lexer": "ipython3",
   "version": "3.6.3"
  }
 },
 "nbformat": 4,
 "nbformat_minor": 2
}
